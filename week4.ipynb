{
  "nbformat": 4,
  "nbformat_minor": 0,
  "metadata": {
    "colab": {
      "provenance": [],
      "authorship_tag": "ABX9TyOoxeuWdk7IqwJ9x95MG4PI",
      "include_colab_link": true
    },
    "kernelspec": {
      "name": "python3",
      "display_name": "Python 3"
    },
    "language_info": {
      "name": "python"
    }
  },
  "cells": [
    {
      "cell_type": "markdown",
      "metadata": {
        "id": "view-in-github",
        "colab_type": "text"
      },
      "source": [
        "<a href=\"https://colab.research.google.com/github/Orazgul97/ISTG6010-2025/blob/main/week4.ipynb\" target=\"_parent\"><img src=\"https://colab.research.google.com/assets/colab-badge.svg\" alt=\"Open In Colab\"/></a>"
      ]
    },
    {
      "cell_type": "code",
      "execution_count": 1,
      "metadata": {
        "colab": {
          "base_uri": "https://localhost:8080/"
        },
        "id": "RjJRgAqfooa8",
        "outputId": "f631fe73-01de-4ccd-f323-6eaeedabf1b1"
      },
      "outputs": [
        {
          "output_type": "stream",
          "name": "stdout",
          "text": [
            "Welcome to Battleship! The current game time elapsed is 0.\n"
          ]
        }
      ],
      "source": [
        "\n",
        "# Define a Player class\n",
        "class Player:\n",
        "    name: str = \"Bob\"\n",
        "    position: int = 0\n",
        "    board: list = []\n",
        "    ships: list = []\n",
        "\n",
        "    def place_ship(self):\n",
        "        pass\n",
        "\n",
        "    def take_turn(self):\n",
        "        pass\n",
        "\n",
        "    def check_if_hit(self, x: int, y: int) -> bool:\n",
        "        pass\n",
        "\n",
        "# Define a Ship class\n",
        "class Ship:\n",
        "    size: int = 0\n",
        "    coordinates: list = []\n",
        "    hits: int = 0\n",
        "\n",
        "    def is_sunk(self) -> bool:\n",
        "        pass\n",
        "\n",
        "# Define a Board class\n",
        "class Board:\n",
        "    grid: list = []\n",
        "\n",
        "    def display(self):\n",
        "        pass\n",
        "\n",
        "    def update_with_shot(self, x: int, y: int):\n",
        "        pass\n",
        "\n",
        "    def place_ship(self, ship: Ship):\n",
        "        pass\n",
        "\n",
        "# Define a Game class\n",
        "class Game:\n",
        "    timer: int = 0\n",
        "    current_turn: int = 0\n",
        "    players: list = []\n",
        "    description: str = \"Welcome to Battleship!\"\n",
        "\n",
        "    def start_game(self):\n",
        "        pass\n",
        "\n",
        "    def check_winner(self):\n",
        "        pass\n",
        "\n",
        "    def switch_turn(self):\n",
        "        pass\n",
        "\n",
        "# Initialize game\n",
        "g = Game()\n",
        "print(f\"{g.description} The current game time elapsed is {g.timer}.\")\n"
      ]
    },
    {
      "cell_type": "code",
      "source": [],
      "metadata": {
        "id": "gi6zphYWqPI7"
      },
      "execution_count": null,
      "outputs": []
    }
  ]
}